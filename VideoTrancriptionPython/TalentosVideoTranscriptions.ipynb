{
  "nbformat": 4,
  "nbformat_minor": 0,
  "metadata": {
    "colab": {
      "private_outputs": true,
      "provenance": [],
      "authorship_tag": "ABX9TyOEQThdMgho7wGEi3xW1SL2",
      "include_colab_link": true
    },
    "kernelspec": {
      "name": "python3",
      "display_name": "Python 3"
    },
    "language_info": {
      "name": "python"
    }
  },
  "cells": [
    {
      "cell_type": "markdown",
      "metadata": {
        "id": "view-in-github",
        "colab_type": "text"
      },
      "source": [
        "<a href=\"https://colab.research.google.com/github/darwinyusef/analisisExploratoriodeTalentos/blob/master/VideoTrancriptionPython/TalentosVideoTranscriptions.ipynb\" target=\"_parent\"><img src=\"https://colab.research.google.com/assets/colab-badge.svg\" alt=\"Open In Colab\"/></a>"
      ]
    },
    {
      "cell_type": "code",
      "execution_count": null,
      "metadata": {
        "id": "icGfQOAD53zK"
      },
      "outputs": [],
      "source": [
        "!pip install youtube-transcript-api"
      ]
    },
    {
      "cell_type": "code",
      "source": [
        "!pip install --upgrade google-api-python-client"
      ],
      "metadata": {
        "id": "DzcYYyxECbsM"
      },
      "execution_count": null,
      "outputs": []
    },
    {
      "cell_type": "code",
      "source": [
        "from youtube_transcript_api import YouTubeTranscriptApi as yta\n",
        "import re"
      ],
      "metadata": {
        "id": "3AbRYThOAfZs"
      },
      "execution_count": null,
      "outputs": []
    },
    {
      "cell_type": "code",
      "source": [
        "def print_time(search_word,time):\n",
        "    print(f\"'{search_word}' was mentioned at:\")\n",
        "    # calculate the accurate time according to the video's duration\n",
        "    for t in time:\n",
        "\n",
        "        hours = int(t // 3600)\n",
        "        min = int((t // 60) % 60)\n",
        "        sec = int(t % 60)\n",
        "        print(f\"{t}---->{hours:02d}:{min:02d}:{sec:02d}\")"
      ],
      "metadata": {
        "id": "W5rvutMmAicT"
      },
      "execution_count": null,
      "outputs": []
    },
    {
      "cell_type": "code",
      "source": [
        "video_id = \"aIXOyOLkb24\"\n",
        "transcript = yta.get_transcript(video_id, languages=('es', 'en'))\n",
        "print( transcript )"
      ],
      "metadata": {
        "id": "ulVqF1f0Czwk"
      },
      "execution_count": null,
      "outputs": []
    },
    {
      "cell_type": "code",
      "source": [
        "data = [t['text'] for t in transcript]\n",
        "data = [re.sub(r\"[^a-zA-Z0–9-ışğöüçiIŞĞÖÜÇİ ]\", \"\", line) for line in data]"
      ],
      "metadata": {
        "id": "ZyWq3I4DDO37"
      },
      "execution_count": null,
      "outputs": []
    },
    {
      "cell_type": "code",
      "source": [
        "search_word = \"Facebook\"\n",
        "time = []\n",
        "for i, line in enumerate(data):\n",
        "    if search_word in line:\n",
        "        start_time = transcript[i]['start']\n",
        "        time.append(start_time)\n",
        "\n",
        "print_time(search_word, time)"
      ],
      "metadata": {
        "id": "FozL5RhmDSI7"
      },
      "execution_count": null,
      "outputs": []
    }
  ]
}