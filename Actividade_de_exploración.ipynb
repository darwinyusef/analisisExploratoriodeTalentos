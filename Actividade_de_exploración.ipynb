{
  "nbformat": 4,
  "nbformat_minor": 0,
  "metadata": {
    "colab": {
      "private_outputs": true,
      "provenance": [],
      "authorship_tag": "ABX9TyPexOtw2DhJG8JBNrMXmpFd",
      "include_colab_link": true
    },
    "kernelspec": {
      "name": "python3",
      "display_name": "Python 3"
    },
    "language_info": {
      "name": "python"
    }
  },
  "cells": [
    {
      "cell_type": "markdown",
      "metadata": {
        "id": "view-in-github",
        "colab_type": "text"
      },
      "source": [
        "<a href=\"https://colab.research.google.com/github/darwinyusef/analisisExploratoriodeTalentos/blob/master/Actividade_de_exploraci%C3%B3n.ipynb\" target=\"_parent\"><img src=\"https://colab.research.google.com/assets/colab-badge.svg\" alt=\"Open In Colab\"/></a>"
      ]
    },
    {
      "cell_type": "markdown",
      "source": [
        "| Día | Categoría             | Actividad                                        | Duración en Horas | Descripción                                 | Producto Entregable | Tipo de Evaluación | Actividad Pedagógica                       | Inteligencias Múltiples               | Tipo de Pensamiento |\n",
        "| --- | --------------------- | ------------------------------------------------ | ----------------- | ------------------------------------------ | ------------------- | ----------------- | ----------------------------------------- | ---------------------------------- | ------------------- |\n",
        "| 1   | Primera Semana        | Investigación Inicial                           | 4                 | Pruebas WAIS IV, Exploración de IM, etc.    | Informe de resultados | Entrevistas y pruebas | Introducción al proceso y evaluación      | Inteligencia Lógico-Matemática       | Convergente         |\n",
        "| 2   | Primera Semana        | Evaluación de Intereses                         | 3                 | Análisis exploratorio de intereses         | Informe de intereses | Entrevistas y pruebas | Reflexión sobre intereses                | Inteligencia Intrapersonal            | Convergente         |\n",
        "| 3   | Primera Semana        | Pruebas de Personalidad                         | 3                 | Pruebas de personalidad                    | Informe de personalidad | Pruebas psicométricas | Autoconocimiento y reflexión             | Inteligencia Intrapersonal            | Convergente         |\n",
        "| 4   | Primera Semana        | Exploración de Talento                         | 4                 | Entrevistas para descubrir talentos       | Informe de talentos   | Entrevistas         | Identificación de talentos               | Inteligencia Intrapersonal            | Convergente         |\n",
        "| 5   | Música                | Composición Musical                             | 3                 | Componer una breve canción                | Grabación de la canción | Evaluación musical | Composición y apreciación musical         | Inteligencia Musical-Rítmica          | Divergente          |\n",
        "| 6   | Artes Visuales        | Pintura al Óleo                                | 4                 | Crear una pintura al óleo                 | Pintura terminada    | Evaluación artística | Pintura y expresión visual               | Inteligencia Visual-Espacial         | Divergente          |\n",
        "| 7   | Deportes              | Deportes Variados                              | 3                 | Practicar varios deportes                  | Registro de logros  | Evaluación deportiva | Desarrollo físico y habilidades deportivas | Inteligencia Corporal-Kinestésica     | Divergente          |\n",
        "| 8   | Ciencias              | Experimento Científico                         | 4                 | Realizar un experimento científico         | Informe del experimento | Evaluación científica | Método científico y observación          | Inteligencia Lógico-Matemática       | Divergente          |\n",
        "| 9   | Lectura y Escritura   | Creación de Cuento                             | 3                 | Escribir un cuento                         | Cuento escrito       | Evaluación literaria | Creatividad y escritura                 | Inteligencia Lingüística              | Divergente          |\n",
        "| 10  | Teatro y Actuación    | Actuación Teatral                              | 4                 | Realizar una breve actuación teatral       | Actuación en video    | Evaluación teatral | Expresión dramática y creatividad        | Inteligencia Interpersonal           | Divergente          |\n",
        "| 11  | Club de Debate        | Debate Formal                                 | 3                 | Participar en un debate formal             | Registro del debate   | Evaluación del debate | Habilidades de argumentación             | Inteligencia Lingüística              | Divergente          |\n",
        "| 12  | Matemáticas y Ajedrez | Resolución de Problemas Matemáticos y Ajedrez | 4                 | Resolver problemas matemáticos y jugar ajedrez | Registro de soluciones | Evaluación matemática | Pensamiento lógico y estratégico        | Inteligencia Lógico-Matemática       | Divergente          |\n",
        "| 13  | Tecnología y Programación | Creación de Software                  | 5                 | Desarrollar un programa informático         | Software funcional    | Evaluación tecnológica | Programación y resolución de problemas  | Inteligencia Lógico-Matemática       | Divergente          |\n",
        "| 14  | Tecnología y Programación | Creación de Sitio Web                | 5                 | Diseñar y crear un sitio web               | Sitio web en línea    | Evaluación tecnológica | Diseño web y desarrollo de habilidades   | Inteligencia Visual-Espacial         | Divergente          |\n",
        "| 15  | Tecnología y Programación | Desarrollo de Aplicación Móvil        | 5                 | Crear una aplicación móvil                | Aplicación funcional  | Evaluación tecnológica | Programación y creatividad              | Inteligencia Lógico-Matemática       | Divergente          |\n",
        "| 16  | Naturaleza y Medio Ambiente | Observación de la Naturaleza       | 4                 | Observar y documentar la naturaleza        | Registro de observaciones | Evaluación de observación | Conexión con la naturaleza y respeto    | Inteligencia Naturalista             | Divergente          |\n",
        "| 17  | Idiomas              | Aprendizaje de un Idioma Extranjero          | 4                 | Iniciar el aprendizaje de un idioma nuevo  | Registro de progreso  | Evaluación lingüística | Aprendizaje de idiomas                  | Inteligencia Lingüística              | Divergente          |\n",
        "| 18  | Emprendimiento       | Creación de un Plan de Negocios              | 4                 | Elaborar un plan de negocio               | Plan de negocios     | Evaluación emprendedora | Creatividad empresarial                 | Inteligencia Intrapersonal            | Divergente          |\n",
        "| 19  | Artes Culinarias     | Preparación de una Receta                     | 3                 | Cocinar una receta                        | Comida preparada      | Evaluación culinaria | Creatividad culinaria                   | Inteligencia Culinaria               | Divergente          |\n",
        "| 20  | Electrónica          | Proyecto de Electrónica                       | 4                 | Realizar un proyecto electrónico          | Proyecto terminado    | Evaluación electrónica | Construcción de circuitos y creatividad  | Inteligencia Lógico-Matemática       | Divergente          |\n",
        "| 22  | Idiomas: inglés       | Inmersión en el Idioma Inglés                   | 4                 | Sumergirse en el idioma inglés            | Registro de progreso  | Evaluación lingüística | Aprendizaje de idiomas                  | Inteligencia Lingüística              | Divergente          |\n",
        "| 23  | Emprendimiento       | Simulación de Negocio                         | 4                 | Simular la gestión de un negocio          | Informe de simulación | Evaluación empresarial | Desarrollo de habilidades empresariales | Inteligencia Intrapersonal            | Divergente          |\n",
        "| 24  | Artes Culinarias     | Creación de un Nuevo Platillo                  | 3                 | Inventar una receta nueva                  | Comida preparada      | Evaluación culinaria | Creatividad culinaria                   | Inteligencia Culinaria               | Divergente          |\n",
        "| 25  | Electrónica          | Proyecto Avanzado de Electrónica               | 4                 | Realizar un proyecto electrónico avanzado | Proyecto avanzado     | Evaluación electrónica | Construcción de circuitos y creatividad  | Inteligencia Lógico-Matemática       | Divergente          |\n",
        "| 26  | Lectura              | Club de Lectura                                | 3                 | Participar en un club de lectura           | Análisis de la lectura | Evaluación literaria | Comprensión de lectura y análisis       | Inteligencia Lingüística              | Divergente          |\n",
        "| 27  | Naturaleza y Medio Ambiente | Proyecto Ambiental                     | 4                 | Desarrollar un proyecto ambiental         | Proyecto ambiental   | Evaluación ambiental | Conciencia ambiental y sostenibilidad   | Inteligencia Naturalista             | Divergente          |\n",
        "| 28  | Deportes              | Deportes Extremos                             | 3                 | Experimentar deportes extremos             | Registro de experiencias | Evaluación deportiva | Desarrollo de habilidades extremas       | Inteligencia Corporal-Kinestésica     | Divergente          |\n",
        "| 29  | Música                | Improvisación Musical                         | 3                 | Practicar la improvisación musical        | Grabación de improvisación | Evaluación musical | Creatividad musical y expresión        | Inteligencia Musical-Rítmica          | Divergente          |\n",
        "| 30  | Emprendimiento       | Presentación del Plan de Negocios             | 3                 | Presentar el plan de negocio al grupo     | Presentación oral     | Evaluación empresarial | Habilidades de presentación             | Inteligencia Interpersonal           | Divergente          |\n",
        "| 31  | Tecnología y Programación | Desarrollo de Juego                    | 5                 | Crear un juego de computadora             | Juego funcional       | Evaluación tecnológica | Diseño de juegos y resolución de problemas | Inteligencia Lógico-Matemática       | Divergente          |\n",
        "| 32  | Ciencias              | Investigación Científica Avanzada            | 4                 | Realizar una investigación científica avanzada | Informe de investigación | Evaluación científica | Investigación y análisis avanzados     | Inteligencia Lógico-Matemática       | Divergente          |\n",
        "| 33  | Teatro y Actuación    | Actuación en Grupo                             | 4                 | Actuar en una obra de teatro en grupo      | Actuación en grupo   | Evaluación teatral | Trabajo en equipo y expresión artística  | Inteligencia Interpersonal           | Divergente          |\n",
        "| 34  | Club de Debate        | Torneo de Debate                               | 4                 | Participar en un torneo de debate          | Registro del torneo   | Evaluación del debate | Competencia de argumentación            | Inteligencia Lingüística              | Divergente          |\n",
        "| 35  | Artes Visuales        | Escultura en Barro                             | 4                 | Crear una escultura en barro               | Escultura terminada   | Evaluación artística | Escultura y expresión visual             | Inteligencia Visual-Espacial         | Divergente          |\n",
        "| 36  | Artes Culinarias     | Degustación de Comida                         | 3                 | Organizar una degustación de comida        | Evento de degustación | Evaluación culinaria | Organización y apreciación gastronómica  | Inteligencia Culinaria               | Divergente          |\n",
        "| 37  | Emprendimiento       | Asesoramiento Empresarial                     | 4                 | Recibir asesoramiento empresarial          | Registro de asesoramiento | Evaluación empresarial | Habilidades empresariales avanzadas     | Inteligencia Interpersonal           | Divergente          |\n",
        "| 38  | Tecnología y Programación | Proyecto de Inteligencia Artificial       | 5                 | Crear un proyecto de inteligencia artificial | Proyecto AI terminado | Evaluación tecnológica | Desarrollo de IA y resolución de problemas | Inteligencia Lógico-Matemática       | Divergente          |\n",
        "| 39  | Naturaleza y Medio Ambiente | Acción de Conservación             | 4                 | Participar en una acción de conservación   | Registro de participación | Evaluación ambiental | Conservación y activismo ambiental     | Inteligencia Naturalista             | Divergente          |\n",
        "| 40  | Electrónica          | Robótica Avanzada                              | 4                 | Crear un robot avanzado                    | Robot funcional      | Evaluación electrónica | Diseño de robots y habilidades técnicas  | Inteligencia Lógico-Matemática       | Divergente          |\n"
      ],
      "metadata": {
        "id": "eYcle566Hp2a"
      }
    },
    {
      "cell_type": "code",
      "source": [],
      "metadata": {
        "id": "iFYEpbohH8vy"
      },
      "execution_count": null,
      "outputs": []
    }
  ]
}